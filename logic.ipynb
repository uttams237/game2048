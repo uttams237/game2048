{
 "cells": [
  {
   "cell_type": "code",
   "execution_count": 21,
   "source": [
    "# libraries and modules required\r\n",
    "\r\n",
    "import random"
   ],
   "outputs": [],
   "metadata": {}
  },
  {
   "cell_type": "code",
   "execution_count": 22,
   "source": [
    "# function for : when game is started\r\n",
    "\r\n",
    "def startGame():\r\n",
    "    matrix= [[0 for i in range(4)] for i in range(4)]\r\n",
    "    return matrix"
   ],
   "outputs": [],
   "metadata": {}
  },
  {
   "cell_type": "code",
   "execution_count": 23,
   "source": [
    "# function for : adding new \"2\" in the matrix at empty position\r\n",
    "\r\n",
    "def addNew2(matrix):\r\n",
    "    row,colunm=random.randint(0,3),random.randint(0,3)\r\n",
    "    while matrix[row][colunm] != 0:\r\n",
    "        row,colunm=random.randint(0,3),random.randint(0,3)\r\n",
    "\r\n",
    "    matrix[row][colunm]=2\r\n"
   ],
   "outputs": [],
   "metadata": {}
  },
  {
   "cell_type": "code",
   "execution_count": 24,
   "source": [
    "# function for : current status of matrix\r\n",
    "\r\n",
    "def currStatus(matrix):\r\n",
    "    # if any cell is having \"2048\",that mean game is over and \"player won\"\r\n",
    "    for i in range(4):\r\n",
    "        for j in range(4):\r\n",
    "            if matrix[i][j]==2048:\r\n",
    "                return \"Player won\"\r\n",
    "# ---------------------------------------------------------------------------------------------------------------------------------------------\r\n",
    "    # if any cell in the matrix is empty(ie, 0) , that mean \"Game is not over yet\"\r\n",
    "    for i in range(4):\r\n",
    "        for j in range(4):\r\n",
    "            if matrix[i][j]==0:\r\n",
    "                return \"Game is not over\"\r\n",
    "# ---------------------------------------------------------------------------------------------------------------------------------------------\r\n",
    "    # if all cells in matrix is filled\r\n",
    "    for i in range(3):\r\n",
    "        for j in range(3):\r\n",
    "            if (matrix[i][j]==matrix[i][j+1]) or (matrix[i][j]==matrix[i+1][j]):\r\n",
    "                return \"Game is not over\"\r\n",
    "\r\n",
    "    for i in range(3):\r\n",
    "        if matrix[3][i]==matrix[3][i+1]:\r\n",
    "            return \"Game is not over\"\r\n",
    "\r\n",
    "    for i in range(3):\r\n",
    "        if matrix[i][3]==matrix[i+1][3]:\r\n",
    "            return \"Game is not over\"\r\n",
    "# ---------------------------------------------------------------------------------------------------------------------------------------------\r\n",
    "    # If none of above case occure\r\n",
    "    return \"Player lost\""
   ],
   "outputs": [],
   "metadata": {}
  },
  {
   "cell_type": "code",
   "execution_count": 25,
   "source": [
    "# function for : compression of matrix\r\n",
    "\r\n",
    "def compress(matrix):\r\n",
    "    changed=False\r\n",
    "    newCompressedMatrix= [[0 for i in range(4)] for j in range(4)]\r\n",
    "\r\n",
    "    for i in range(4):\r\n",
    "        curr=0\r\n",
    "        for j in range(4):\r\n",
    "            if matrix[i][j]!=0:\r\n",
    "                newCompressedMatrix[i][curr]=matrix[i][j]\r\n",
    "                if curr!=j:\r\n",
    "                    changed=True\r\n",
    "                curr+=1\r\n",
    "\r\n",
    "    return newCompressedMatrix,changed"
   ],
   "outputs": [],
   "metadata": {}
  },
  {
   "cell_type": "code",
   "execution_count": 26,
   "source": [
    "# function for : merging cells which are equal and adjecent (and are not equal to \"0\")\r\n",
    "\r\n",
    "def merge(matrix):\r\n",
    "    changed=False\r\n",
    "    for i in range(4):\r\n",
    "        for j in range(3):\r\n",
    "            if matrix[i][j]!=0 and (matrix[i][j]==matrix[i][j+1]):\r\n",
    "                matrix[i][j]=(2*matrix[i][j])\r\n",
    "                changed=True\r\n",
    "                matrix[i][j+1]=0\r\n",
    "    return matrix,changed"
   ],
   "outputs": [],
   "metadata": {}
  },
  {
   "cell_type": "code",
   "execution_count": 27,
   "source": [
    "# function for : reversing rows of matrix\r\n",
    "\r\n",
    "def reverse(matrix):\r\n",
    "    newReversedMatrix=[]\r\n",
    "    for i in range(4):\r\n",
    "        newReversedMatrix.append(matrix[i][::-1])\r\n",
    "\r\n",
    "    return newReversedMatrix"
   ],
   "outputs": [],
   "metadata": {}
  },
  {
   "cell_type": "code",
   "execution_count": 28,
   "source": [
    "# function for : transposing matrix\r\n",
    "\r\n",
    "def transpose(matrix):\r\n",
    "    newTransposedMatrix=[[0 for i in range(4)] for j in range(4)]\r\n",
    "    for i in range(4):\r\n",
    "        for j in range(4):\r\n",
    "            newTransposedMatrix[j][i]=matrix[i][j]\r\n",
    "\r\n",
    "    return newTransposedMatrix"
   ],
   "outputs": [],
   "metadata": {}
  },
  {
   "cell_type": "markdown",
   "source": [
    "ALL POSSIBLE STEPS AND THEIR STEPS TO PERFORM\r\n",
    "\r\n",
    "# LEFT\r\n",
    "### compress -> merge -> compress -> addNew2\r\n",
    "# RIGHT\r\n",
    "### reverse -> compress -> merge -> compress -> reverse -> addNew2\r\n",
    "# UP\r\n",
    "### transpose -> compress -> merge -> compress -> transpose -> addNew2\r\n",
    "# DOWN\r\n",
    "### transpose -> reverse -> compress -> merge -> compress -> reverse -> transpose -> addNew2"
   ],
   "metadata": {}
  },
  {
   "cell_type": "code",
   "execution_count": 29,
   "source": [
    "# code for LEFT move\r\n",
    "def leftMove(matrix):\r\n",
    "    newMatrix,change1= compress(matrix)\r\n",
    "    newMatrix2,change2=merge(newMatrix)\r\n",
    "    newMatrix3,change3= compress(newMatrix2)\r\n",
    "    # addNew2(newMatrix2)\r\n",
    "    finalChange= (change1 or change2 or change3)\r\n",
    "    return newMatrix3,finalChange"
   ],
   "outputs": [],
   "metadata": {}
  },
  {
   "cell_type": "code",
   "execution_count": 30,
   "source": [
    "#  code for RIGHT move\r\n",
    "def rightMove(matrix):\r\n",
    "    newMatrix= reverse(matrix)\r\n",
    "    newMatrix2,change1= compress(newMatrix)\r\n",
    "    newMatrix3,change2=merge(newMatrix2)\r\n",
    "    newMatrix4,change3= compress(newMatrix3)\r\n",
    "    newMatrix5= reverse(newMatrix4)\r\n",
    "    finalChange= (change1 or change2 or change3)\r\n",
    "    # addNew2(newMatrix4)\r\n",
    "    return newMatrix5,finalChange"
   ],
   "outputs": [],
   "metadata": {}
  },
  {
   "cell_type": "code",
   "execution_count": 31,
   "source": [
    "def upMove(matrix):\r\n",
    "    newMatrix= transpose(matrix)\r\n",
    "    newMatrix2,change1= compress(newMatrix)\r\n",
    "    newMatrix3,change2=merge(newMatrix2)\r\n",
    "    newMatrix4,change3= compress(newMatrix3)\r\n",
    "    newMatrix5= transpose(newMatrix4)\r\n",
    "    finalChange= (change1 or change2 or change3)\r\n",
    "    return newMatrix5,finalChange"
   ],
   "outputs": [],
   "metadata": {}
  },
  {
   "cell_type": "code",
   "execution_count": 32,
   "source": [
    "def downMove(matrix):\r\n",
    "    newMatrix= transpose(matrix)\r\n",
    "    newMatrix2= reverse(newMatrix)\r\n",
    "    newMatrix3,change1= compress(newMatrix2)\r\n",
    "    newMatrix4,change2= merge(newMatrix3)\r\n",
    "    newMatrix5,change3= compress(newMatrix4)\r\n",
    "    newMatrix6= reverse(newMatrix5)\r\n",
    "    newMatrix7= transpose(newMatrix6)\r\n",
    "    finalChange= (change1 or change2 or change3)\r\n",
    "    return newMatrix7,finalChange"
   ],
   "outputs": [],
   "metadata": {}
  }
 ],
 "metadata": {
  "orig_nbformat": 4,
  "language_info": {
   "name": "python",
   "version": "3.7.8",
   "mimetype": "text/x-python",
   "codemirror_mode": {
    "name": "ipython",
    "version": 3
   },
   "pygments_lexer": "ipython3",
   "nbconvert_exporter": "python",
   "file_extension": ".py"
  },
  "kernelspec": {
   "name": "python3",
   "display_name": "Python 3.7.8 32-bit"
  },
  "interpreter": {
   "hash": "65d9ffe3f8fe6e9c7bb8ad68325a2ebb847ae49b1f871d2f59f94672cdca07c4"
  }
 },
 "nbformat": 4,
 "nbformat_minor": 2
}